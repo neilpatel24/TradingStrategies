{
 "cells": [
  {
   "cell_type": "code",
   "execution_count": 73,
   "id": "6b3c3d27-d67c-40db-9877-9ef5532dc944",
   "metadata": {},
   "outputs": [],
   "source": [
    "import warnings\n",
    "warnings.simplefilter(action='ignore', category=FutureWarning)\n",
    "\n",
    "import yfinance as yf\n",
    "import pandas as pd\n",
    "import numpy as np\n",
    "import matplotlib.pyplot as plt\n",
    "\n",
    "from pytickersymbols import PyTickerSymbols\n",
    "\n",
    "pd.options.mode.chained_assignment = None  # default='warn'"
   ]
  },
  {
   "cell_type": "code",
   "execution_count": 74,
   "id": "a322fe7a-c585-4a48-9ca1-199e9f86bf9a",
   "metadata": {},
   "outputs": [],
   "source": [
    "# This Cell Block is all the functions for the strat. This is the only cell block that needs to be changed to backtest a different strategy.\n",
    "def RSI(data, window=14):\n",
    "    delta = data['Close'].diff(1)\n",
    "    gain = delta.where(delta > 0, 0)\n",
    "    loss = -delta.where(delta < 0, 0)\n",
    "\n",
    "    avg_gain = gain.rolling(window=window, min_periods=1).mean()\n",
    "    avg_loss = loss.rolling(window=window, min_periods=1).mean()\n",
    "\n",
    "    rs = avg_gain / avg_loss\n",
    "    rsi = 100 - (100 / (1 + rs))\n",
    "    \n",
    "    return rsi\n",
    "\n",
    "def strat(ticker, period):   \n",
    "    # Download stock data from Yahoo Finance\n",
    "    data = yf.download(ticker, period=period)\n",
    "    \n",
    "    # Calculate RSI and add it to the DataFrame\n",
    "    data['RSI'] = RSI(data)\n",
    "    \n",
    "    # Define the buy and sell conditions based on RSI\n",
    "    data['Signal'] = 0\n",
    "    data['Signal'][data['RSI'] > 90] = 1   # Buy signal\n",
    "    data['Signal'][data['RSI'] < 10] = -1  # Sell signal\n",
    "    \n",
    "    # Generate positions\n",
    "    data['Position'] = data['Signal'].shift()\n",
    "\n",
    "    # Implement strategy\n",
    "    data['Buy'] = 0\n",
    "    data['Sell'] = 0\n",
    "\n",
    "    for i in range(1, len(data)):\n",
    "        if data['Position'].iloc[i] == 1 and data['Position'].iloc[i-1] != 1:\n",
    "            data.at[data.index[i], 'Buy'] = data['Open'].iloc[i]\n",
    "        if data['Position'].iloc[i] == -1 and data['Position'].iloc[i-1] != -1:\n",
    "            data.at[data.index[i], 'Sell'] = data['Close'].iloc[i]\n",
    "        if data['Position'].iloc[i] == 1 and (data.index[i] - data.index[i-1]).days >= 7:\n",
    "            data.at[data.index[i], 'Sell'] = data['Close'].iloc[i]\n",
    "    \n",
    "    # Calculate daily returns\n",
    "    data['Daily Return'] = data['Close'].pct_change()\n",
    "    # Calculate strategy returns: Position * Daily Return\n",
    "    data['Strategy Return'] = data['Position'] * data['Daily Return']\n",
    "    \n",
    "    # Calculate cumulative returns\n",
    "    data['Cumulative Market Return'] = (1 + data['Daily Return']).cumprod() - 1\n",
    "    data['Cumulative Strategy Return'] = (1 + data['Strategy Return']).cumprod() - 1\n",
    "\n",
    "    # Calculate total strategy return\n",
    "    total_strategy_return = data['Cumulative Strategy Return'].iloc[-1] * 100\n",
    "    total_strategy_return = \"{:.2f}%\".format(total_strategy_return)\n",
    "    \n",
    "    return total_strategy_return"
   ]
  },
  {
   "cell_type": "code",
   "execution_count": 75,
   "id": "2ec4b201-baf7-4723-a863-f1b69abf82af",
   "metadata": {},
   "outputs": [],
   "source": [
    "#The backtesting function to backtest the strat over different periods\n",
    "def backtest_strat(ticker):\n",
    "    backtest_data = {\n",
    "        'Asset': [ticker],\n",
    "        'YTD': [strat(ticker, \"ytd\")],\n",
    "        'Last 1Y': [strat(ticker, \"1y\")],\n",
    "        'Last 6M': [strat(ticker, \"6mo\")],\n",
    "        'Last 3M': [strat(ticker, \"3mo\")],\n",
    "        'Last 1M': [strat(ticker, \"1mo\")]    }\n",
    "    \n",
    "    # Create a pandas dataframe\n",
    "    backtest_df = pd.DataFrame(backtest_data)\n",
    "    \n",
    "    # Set the first column as the index for clarity\n",
    "    backtest_df.set_index('Asset', inplace=True)\n",
    "    return backtest_df"
   ]
  },
  {
   "cell_type": "code",
   "execution_count": 76,
   "id": "0043136b-c4ae-456a-a63b-82817612856d",
   "metadata": {},
   "outputs": [],
   "source": [
    "#Creates an empty dataframe to store the backtest data\n",
    "df =pd.DataFrame({\n",
    "        'Asset': [],'YTD': [], 'Last 1Y': [], 'Last 6M': [], 'Last 3M': [], 'Last 1M': []\n",
    "    })\n",
    "\n",
    "df.set_index('Asset', inplace=True)"
   ]
  },
  {
   "cell_type": "code",
   "execution_count": null,
   "id": "3fed2135-e2f2-4d82-bc96-0f859e01c966",
   "metadata": {
    "scrolled": true
   },
   "outputs": [],
   "source": [
    "#Fetching the tickers for the S&P 500 - [ticker['symbol'] for ticker in sp500_tickers] - ['TSLA', 'NVDA', 'AAPL', 'MSFT', 'MSTR', 'AMZN', 'META', 'INTC']\n",
    "#This will take like 10mins to execute\n",
    "stock_data = PyTickerSymbols()\n",
    "sp500_symbols = stock_data.get_stocks_by_index('S&P 500')\n",
    "symbols = ['TSLA', 'NVDA', 'AAPL', 'MSFT', 'MSTR', 'AMZN', 'META', 'INTC']\n",
    "\n",
    "#Running the stocks through the strat and backtesting functions\n",
    "for symbol in symbols:\n",
    "    try:\n",
    "        df = pd.concat([df, backtest_strat(symbol)])\n",
    "    except IndexError:\n",
    "        pass\n",
    "\n",
    "\n",
    "df"
   ]
  },
  {
   "cell_type": "code",
   "execution_count": 78,
   "id": "3ba6ae1e-d495-4c6b-adfa-be0b6fb2c62b",
   "metadata": {},
   "outputs": [],
   "source": [
    "#Saves the dataframe to a csv file. Edit the name\n",
    "df.to_csv('S&P 500 RSI Strat 90 10 - small list.csv', index=True)"
   ]
  },
  {
   "cell_type": "code",
   "execution_count": null,
   "id": "7328f7b1-a48d-446a-bacb-af9976988fab",
   "metadata": {},
   "outputs": [],
   "source": []
  }
 ],
 "metadata": {
  "kernelspec": {
   "display_name": "Python 3 (ipykernel)",
   "language": "python",
   "name": "python3"
  },
  "language_info": {
   "codemirror_mode": {
    "name": "ipython",
    "version": 3
   },
   "file_extension": ".py",
   "mimetype": "text/x-python",
   "name": "python",
   "nbconvert_exporter": "python",
   "pygments_lexer": "ipython3",
   "version": "3.12.6"
  }
 },
 "nbformat": 4,
 "nbformat_minor": 5
}
